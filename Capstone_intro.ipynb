{
 "cells": [
  {
   "cell_type": "markdown",
   "metadata": {},
   "source": [
    "# Coast to Coast"
   ]
  },
  {
   "cell_type": "markdown",
   "metadata": {},
   "source": [
    "**Introduction/Business Problem**\n",
    "\n",
    "As a growing tech company in Vancouver, you are tasked with opening a new office on the other side of Canada. Moving across the country can be difficult for your employees, so you want to make the transition as painless as possible. Because your employees are generally young and active, you will need to find the best possible neighborhood for your new headquarters. The challenge will be to recommend a new location to your boss that best matches the current location where the employees are happy. "
   ]
  },
  {
   "cell_type": "markdown",
   "metadata": {},
   "source": [
    "**Data**\n",
    "\n",
    "The major data source for this project will be foursquare. By looking at the venues we can create a profile. First, we will clean up the venue data a bit. For example, “burrito place” and “Mexican restaurant” are categorically similar enough to be grouped under a single label. Next, we will create a detailed profile of our current neighborhood. To do this properly we will need to also perform some qualitative analysis. It’s not enough to just have a Japanese restaurant in both places, if the one in Vancouver is exceptional and the one in Toronto isn’t. Once we have our detailed profile, we will then map that profile onto the different Toronto neighborhoods to come up with the best possible fit. \n"
   ]
  },
  {
   "cell_type": "code",
   "execution_count": null,
   "metadata": {},
   "outputs": [],
   "source": []
  }
 ],
 "metadata": {
  "kernelspec": {
   "display_name": "Python 3",
   "language": "python",
   "name": "python3"
  },
  "language_info": {
   "codemirror_mode": {
    "name": "ipython",
    "version": 3
   },
   "file_extension": ".py",
   "mimetype": "text/x-python",
   "name": "python",
   "nbconvert_exporter": "python",
   "pygments_lexer": "ipython3",
   "version": "3.8.5"
  }
 },
 "nbformat": 4,
 "nbformat_minor": 4
}
